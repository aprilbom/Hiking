{
 "cells": [
  {
   "cell_type": "code",
   "execution_count": 26,
   "metadata": {},
   "outputs": [],
   "source": [
    "from selenium import webdriver\n",
    "from selenium.webdriver.common.keys import Keys\n",
    "import json\n",
    "import os\n",
    "import urllib.request\n",
    "\n",
    "searchkey = '도봉산 신선대'\n",
    "url = \"http://www.google.com/search?q=\" + searchkey + \"&source=lnms&tbm=isch\"\n",
    "\n",
    "# chrome webdriver 실행\n",
    "browser = webdriver.Chrome('./chromedriver')\n",
    "browser.get(url)"
   ]
  },
  {
   "cell_type": "code",
   "execution_count": 27,
   "metadata": {
    "scrolled": true
   },
   "outputs": [
    {
     "name": "stdout",
     "output_type": "stream",
     "text": [
      "<module 'ntpath' from 'C:\\\\Users\\\\Bom April Kim\\\\.conda\\\\envs\\\\hiking\\\\lib\\\\ntpath.py'>\n"
     ]
    }
   ],
   "source": [
    "# User-Agent를 통해 봇이 아닌 유저정보라는 것을 위해 사용\n",
    "header = {'User-Agent':\"Mozilla/5.0 (Windows NT 10.0; Win64; x64) AppleWebKit/537.36 (KHTML, like Gecko) Chrome/83.0.4103.116 Safari/537.36\"}\n",
    "\n",
    "# 이미지 카운트 (이미지 저장할 때 사용하기 위해서)\n",
    "cnt = 0\n",
    "sucnt = 0\n",
    "\n",
    "# 이미지 저장 경로 생성\n",
    "print(os.path)\n",
    "if not os.path.exists('./data/' + searchkey):\n",
    "    os.mkdir('./data/' + searchkey)\n",
    "    \n",
    "# 스크롤\n",
    "for _ in range(500):\n",
    "    browser.execute_script(\"window.scrollBy(0, 10000)\")"
   ]
  },
  {
   "cell_type": "code",
   "execution_count": 28,
   "metadata": {},
   "outputs": [],
   "source": [
    "# div 태그에서 class name이 rg_i인 것 찾기\n",
    "elements = browser.find_elements_by_class_name('rg_i')"
   ]
  },
  {
   "cell_type": "code",
   "execution_count": 29,
   "metadata": {},
   "outputs": [
    {
     "data": {
      "text/plain": [
       "'data:image/jpeg;base64,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'"
      ]
     },
     "execution_count": 29,
     "metadata": {},
     "output_type": "execute_result"
    }
   ],
   "source": [
    "elements[0].get_property('src')"
   ]
  },
  {
   "cell_type": "code",
   "execution_count": 30,
   "metadata": {},
   "outputs": [
    {
     "ename": "ValueError",
     "evalue": "unknown url type: ''",
     "output_type": "error",
     "traceback": [
      "\u001b[1;31m---------------------------------------------------------------------------\u001b[0m",
      "\u001b[1;31mValueError\u001b[0m                                Traceback (most recent call last)",
      "\u001b[1;32m<ipython-input-30-7490efee6954>\u001b[0m in \u001b[0;36m<module>\u001b[1;34m\u001b[0m\n\u001b[0;32m      1\u001b[0m \u001b[0mcnt\u001b[0m \u001b[1;33m=\u001b[0m \u001b[1;36m0\u001b[0m\u001b[1;33m\u001b[0m\u001b[1;33m\u001b[0m\u001b[0m\n\u001b[0;32m      2\u001b[0m \u001b[1;32mfor\u001b[0m \u001b[0mx\u001b[0m \u001b[1;32min\u001b[0m \u001b[0melements\u001b[0m\u001b[1;33m:\u001b[0m\u001b[1;33m\u001b[0m\u001b[1;33m\u001b[0m\u001b[0m\n\u001b[1;32m----> 3\u001b[1;33m     \u001b[0murllib\u001b[0m\u001b[1;33m.\u001b[0m\u001b[0mrequest\u001b[0m\u001b[1;33m.\u001b[0m\u001b[0murlretrieve\u001b[0m\u001b[1;33m(\u001b[0m\u001b[0mx\u001b[0m\u001b[1;33m.\u001b[0m\u001b[0mget_property\u001b[0m\u001b[1;33m(\u001b[0m\u001b[1;34m'src'\u001b[0m\u001b[1;33m)\u001b[0m\u001b[1;33m,\u001b[0m \u001b[1;34m'./data/'\u001b[0m\u001b[1;33m+\u001b[0m\u001b[0msearchkey\u001b[0m\u001b[1;33m+\u001b[0m\u001b[1;34m'/'\u001b[0m\u001b[1;33m+\u001b[0m\u001b[0mstr\u001b[0m\u001b[1;33m(\u001b[0m\u001b[0mcnt\u001b[0m\u001b[1;33m)\u001b[0m\u001b[1;33m+\u001b[0m\u001b[1;34m'.jpg'\u001b[0m\u001b[1;33m)\u001b[0m\u001b[1;33m\u001b[0m\u001b[1;33m\u001b[0m\u001b[0m\n\u001b[0m\u001b[0;32m      4\u001b[0m     \u001b[0mcnt\u001b[0m\u001b[1;33m+=\u001b[0m\u001b[1;36m1\u001b[0m\u001b[1;33m\u001b[0m\u001b[1;33m\u001b[0m\u001b[0m\n",
      "\u001b[1;32m~\\.conda\\envs\\hiking\\lib\\urllib\\request.py\u001b[0m in \u001b[0;36murlretrieve\u001b[1;34m(url, filename, reporthook, data)\u001b[0m\n\u001b[0;32m    245\u001b[0m     \u001b[0murl_type\u001b[0m\u001b[1;33m,\u001b[0m \u001b[0mpath\u001b[0m \u001b[1;33m=\u001b[0m \u001b[0m_splittype\u001b[0m\u001b[1;33m(\u001b[0m\u001b[0murl\u001b[0m\u001b[1;33m)\u001b[0m\u001b[1;33m\u001b[0m\u001b[1;33m\u001b[0m\u001b[0m\n\u001b[0;32m    246\u001b[0m \u001b[1;33m\u001b[0m\u001b[0m\n\u001b[1;32m--> 247\u001b[1;33m     \u001b[1;32mwith\u001b[0m \u001b[0mcontextlib\u001b[0m\u001b[1;33m.\u001b[0m\u001b[0mclosing\u001b[0m\u001b[1;33m(\u001b[0m\u001b[0murlopen\u001b[0m\u001b[1;33m(\u001b[0m\u001b[0murl\u001b[0m\u001b[1;33m,\u001b[0m \u001b[0mdata\u001b[0m\u001b[1;33m)\u001b[0m\u001b[1;33m)\u001b[0m \u001b[1;32mas\u001b[0m \u001b[0mfp\u001b[0m\u001b[1;33m:\u001b[0m\u001b[1;33m\u001b[0m\u001b[1;33m\u001b[0m\u001b[0m\n\u001b[0m\u001b[0;32m    248\u001b[0m         \u001b[0mheaders\u001b[0m \u001b[1;33m=\u001b[0m \u001b[0mfp\u001b[0m\u001b[1;33m.\u001b[0m\u001b[0minfo\u001b[0m\u001b[1;33m(\u001b[0m\u001b[1;33m)\u001b[0m\u001b[1;33m\u001b[0m\u001b[1;33m\u001b[0m\u001b[0m\n\u001b[0;32m    249\u001b[0m \u001b[1;33m\u001b[0m\u001b[0m\n",
      "\u001b[1;32m~\\.conda\\envs\\hiking\\lib\\urllib\\request.py\u001b[0m in \u001b[0;36murlopen\u001b[1;34m(url, data, timeout, cafile, capath, cadefault, context)\u001b[0m\n\u001b[0;32m    220\u001b[0m     \u001b[1;32melse\u001b[0m\u001b[1;33m:\u001b[0m\u001b[1;33m\u001b[0m\u001b[1;33m\u001b[0m\u001b[0m\n\u001b[0;32m    221\u001b[0m         \u001b[0mopener\u001b[0m \u001b[1;33m=\u001b[0m \u001b[0m_opener\u001b[0m\u001b[1;33m\u001b[0m\u001b[1;33m\u001b[0m\u001b[0m\n\u001b[1;32m--> 222\u001b[1;33m     \u001b[1;32mreturn\u001b[0m \u001b[0mopener\u001b[0m\u001b[1;33m.\u001b[0m\u001b[0mopen\u001b[0m\u001b[1;33m(\u001b[0m\u001b[0murl\u001b[0m\u001b[1;33m,\u001b[0m \u001b[0mdata\u001b[0m\u001b[1;33m,\u001b[0m \u001b[0mtimeout\u001b[0m\u001b[1;33m)\u001b[0m\u001b[1;33m\u001b[0m\u001b[1;33m\u001b[0m\u001b[0m\n\u001b[0m\u001b[0;32m    223\u001b[0m \u001b[1;33m\u001b[0m\u001b[0m\n\u001b[0;32m    224\u001b[0m \u001b[1;32mdef\u001b[0m \u001b[0minstall_opener\u001b[0m\u001b[1;33m(\u001b[0m\u001b[0mopener\u001b[0m\u001b[1;33m)\u001b[0m\u001b[1;33m:\u001b[0m\u001b[1;33m\u001b[0m\u001b[1;33m\u001b[0m\u001b[0m\n",
      "\u001b[1;32m~\\.conda\\envs\\hiking\\lib\\urllib\\request.py\u001b[0m in \u001b[0;36mopen\u001b[1;34m(self, fullurl, data, timeout)\u001b[0m\n\u001b[0;32m    507\u001b[0m         \u001b[1;31m# accept a URL or a Request object\u001b[0m\u001b[1;33m\u001b[0m\u001b[1;33m\u001b[0m\u001b[1;33m\u001b[0m\u001b[0m\n\u001b[0;32m    508\u001b[0m         \u001b[1;32mif\u001b[0m \u001b[0misinstance\u001b[0m\u001b[1;33m(\u001b[0m\u001b[0mfullurl\u001b[0m\u001b[1;33m,\u001b[0m \u001b[0mstr\u001b[0m\u001b[1;33m)\u001b[0m\u001b[1;33m:\u001b[0m\u001b[1;33m\u001b[0m\u001b[1;33m\u001b[0m\u001b[0m\n\u001b[1;32m--> 509\u001b[1;33m             \u001b[0mreq\u001b[0m \u001b[1;33m=\u001b[0m \u001b[0mRequest\u001b[0m\u001b[1;33m(\u001b[0m\u001b[0mfullurl\u001b[0m\u001b[1;33m,\u001b[0m \u001b[0mdata\u001b[0m\u001b[1;33m)\u001b[0m\u001b[1;33m\u001b[0m\u001b[1;33m\u001b[0m\u001b[0m\n\u001b[0m\u001b[0;32m    510\u001b[0m         \u001b[1;32melse\u001b[0m\u001b[1;33m:\u001b[0m\u001b[1;33m\u001b[0m\u001b[1;33m\u001b[0m\u001b[0m\n\u001b[0;32m    511\u001b[0m             \u001b[0mreq\u001b[0m \u001b[1;33m=\u001b[0m \u001b[0mfullurl\u001b[0m\u001b[1;33m\u001b[0m\u001b[1;33m\u001b[0m\u001b[0m\n",
      "\u001b[1;32m~\\.conda\\envs\\hiking\\lib\\urllib\\request.py\u001b[0m in \u001b[0;36m__init__\u001b[1;34m(self, url, data, headers, origin_req_host, unverifiable, method)\u001b[0m\n\u001b[0;32m    326\u001b[0m                  \u001b[0morigin_req_host\u001b[0m\u001b[1;33m=\u001b[0m\u001b[1;32mNone\u001b[0m\u001b[1;33m,\u001b[0m \u001b[0munverifiable\u001b[0m\u001b[1;33m=\u001b[0m\u001b[1;32mFalse\u001b[0m\u001b[1;33m,\u001b[0m\u001b[1;33m\u001b[0m\u001b[1;33m\u001b[0m\u001b[0m\n\u001b[0;32m    327\u001b[0m                  method=None):\n\u001b[1;32m--> 328\u001b[1;33m         \u001b[0mself\u001b[0m\u001b[1;33m.\u001b[0m\u001b[0mfull_url\u001b[0m \u001b[1;33m=\u001b[0m \u001b[0murl\u001b[0m\u001b[1;33m\u001b[0m\u001b[1;33m\u001b[0m\u001b[0m\n\u001b[0m\u001b[0;32m    329\u001b[0m         \u001b[0mself\u001b[0m\u001b[1;33m.\u001b[0m\u001b[0mheaders\u001b[0m \u001b[1;33m=\u001b[0m \u001b[1;33m{\u001b[0m\u001b[1;33m}\u001b[0m\u001b[1;33m\u001b[0m\u001b[1;33m\u001b[0m\u001b[0m\n\u001b[0;32m    330\u001b[0m         \u001b[0mself\u001b[0m\u001b[1;33m.\u001b[0m\u001b[0munredirected_hdrs\u001b[0m \u001b[1;33m=\u001b[0m \u001b[1;33m{\u001b[0m\u001b[1;33m}\u001b[0m\u001b[1;33m\u001b[0m\u001b[1;33m\u001b[0m\u001b[0m\n",
      "\u001b[1;32m~\\.conda\\envs\\hiking\\lib\\urllib\\request.py\u001b[0m in \u001b[0;36mfull_url\u001b[1;34m(self, url)\u001b[0m\n\u001b[0;32m    352\u001b[0m         \u001b[0mself\u001b[0m\u001b[1;33m.\u001b[0m\u001b[0m_full_url\u001b[0m \u001b[1;33m=\u001b[0m \u001b[0munwrap\u001b[0m\u001b[1;33m(\u001b[0m\u001b[0murl\u001b[0m\u001b[1;33m)\u001b[0m\u001b[1;33m\u001b[0m\u001b[1;33m\u001b[0m\u001b[0m\n\u001b[0;32m    353\u001b[0m         \u001b[0mself\u001b[0m\u001b[1;33m.\u001b[0m\u001b[0m_full_url\u001b[0m\u001b[1;33m,\u001b[0m \u001b[0mself\u001b[0m\u001b[1;33m.\u001b[0m\u001b[0mfragment\u001b[0m \u001b[1;33m=\u001b[0m \u001b[0m_splittag\u001b[0m\u001b[1;33m(\u001b[0m\u001b[0mself\u001b[0m\u001b[1;33m.\u001b[0m\u001b[0m_full_url\u001b[0m\u001b[1;33m)\u001b[0m\u001b[1;33m\u001b[0m\u001b[1;33m\u001b[0m\u001b[0m\n\u001b[1;32m--> 354\u001b[1;33m         \u001b[0mself\u001b[0m\u001b[1;33m.\u001b[0m\u001b[0m_parse\u001b[0m\u001b[1;33m(\u001b[0m\u001b[1;33m)\u001b[0m\u001b[1;33m\u001b[0m\u001b[1;33m\u001b[0m\u001b[0m\n\u001b[0m\u001b[0;32m    355\u001b[0m \u001b[1;33m\u001b[0m\u001b[0m\n\u001b[0;32m    356\u001b[0m     \u001b[1;33m@\u001b[0m\u001b[0mfull_url\u001b[0m\u001b[1;33m.\u001b[0m\u001b[0mdeleter\u001b[0m\u001b[1;33m\u001b[0m\u001b[1;33m\u001b[0m\u001b[0m\n",
      "\u001b[1;32m~\\.conda\\envs\\hiking\\lib\\urllib\\request.py\u001b[0m in \u001b[0;36m_parse\u001b[1;34m(self)\u001b[0m\n\u001b[0;32m    381\u001b[0m         \u001b[0mself\u001b[0m\u001b[1;33m.\u001b[0m\u001b[0mtype\u001b[0m\u001b[1;33m,\u001b[0m \u001b[0mrest\u001b[0m \u001b[1;33m=\u001b[0m \u001b[0m_splittype\u001b[0m\u001b[1;33m(\u001b[0m\u001b[0mself\u001b[0m\u001b[1;33m.\u001b[0m\u001b[0m_full_url\u001b[0m\u001b[1;33m)\u001b[0m\u001b[1;33m\u001b[0m\u001b[1;33m\u001b[0m\u001b[0m\n\u001b[0;32m    382\u001b[0m         \u001b[1;32mif\u001b[0m \u001b[0mself\u001b[0m\u001b[1;33m.\u001b[0m\u001b[0mtype\u001b[0m \u001b[1;32mis\u001b[0m \u001b[1;32mNone\u001b[0m\u001b[1;33m:\u001b[0m\u001b[1;33m\u001b[0m\u001b[1;33m\u001b[0m\u001b[0m\n\u001b[1;32m--> 383\u001b[1;33m             \u001b[1;32mraise\u001b[0m \u001b[0mValueError\u001b[0m\u001b[1;33m(\u001b[0m\u001b[1;34m\"unknown url type: %r\"\u001b[0m \u001b[1;33m%\u001b[0m \u001b[0mself\u001b[0m\u001b[1;33m.\u001b[0m\u001b[0mfull_url\u001b[0m\u001b[1;33m)\u001b[0m\u001b[1;33m\u001b[0m\u001b[1;33m\u001b[0m\u001b[0m\n\u001b[0m\u001b[0;32m    384\u001b[0m         \u001b[0mself\u001b[0m\u001b[1;33m.\u001b[0m\u001b[0mhost\u001b[0m\u001b[1;33m,\u001b[0m \u001b[0mself\u001b[0m\u001b[1;33m.\u001b[0m\u001b[0mselector\u001b[0m \u001b[1;33m=\u001b[0m \u001b[0m_splithost\u001b[0m\u001b[1;33m(\u001b[0m\u001b[0mrest\u001b[0m\u001b[1;33m)\u001b[0m\u001b[1;33m\u001b[0m\u001b[1;33m\u001b[0m\u001b[0m\n\u001b[0;32m    385\u001b[0m         \u001b[1;32mif\u001b[0m \u001b[0mself\u001b[0m\u001b[1;33m.\u001b[0m\u001b[0mhost\u001b[0m\u001b[1;33m:\u001b[0m\u001b[1;33m\u001b[0m\u001b[1;33m\u001b[0m\u001b[0m\n",
      "\u001b[1;31mValueError\u001b[0m: unknown url type: ''"
     ]
    }
   ],
   "source": [
    "cnt = 0\n",
    "for x in elements:\n",
    "    urllib.request.urlretrieve(x.get_property('src'), './data/'+searchkey+'/'+str(cnt)+'.jpg')\n",
    "    cnt+=1"
   ]
  },
  {
   "cell_type": "code",
   "execution_count": 31,
   "metadata": {},
   "outputs": [
    {
     "name": "stdout",
     "output_type": "stream",
     "text": [
      "66 images successfully downloaded\n"
     ]
    }
   ],
   "source": [
    "print(cnt, \"images successfully downloaded\")\n",
    "browser.close()"
   ]
  },
  {
   "cell_type": "code",
   "execution_count": 11,
   "metadata": {},
   "outputs": [
    {
     "name": "stdout",
     "output_type": "stream",
     "text": [
      "Total :  1\n",
      "Success:  0\n"
     ]
    },
    {
     "ename": "JSONDecodeError",
     "evalue": "Expecting value: line 1 column 1 (char 0)",
     "output_type": "error",
     "traceback": [
      "\u001b[1;31m---------------------------------------------------------------------------\u001b[0m",
      "\u001b[1;31mJSONDecodeError\u001b[0m                           Traceback (most recent call last)",
      "\u001b[1;32m<ipython-input-11-826020c5f09b>\u001b[0m in \u001b[0;36m<module>\u001b[1;34m\u001b[0m\n\u001b[0;32m      3\u001b[0m     \u001b[0mprint\u001b[0m\u001b[1;33m(\u001b[0m\u001b[1;34m\"Total : \"\u001b[0m\u001b[1;33m,\u001b[0m \u001b[0mcnt\u001b[0m\u001b[1;33m)\u001b[0m\u001b[1;33m\u001b[0m\u001b[1;33m\u001b[0m\u001b[0m\n\u001b[0;32m      4\u001b[0m     \u001b[0mprint\u001b[0m\u001b[1;33m(\u001b[0m\u001b[1;34m\"Success: \"\u001b[0m\u001b[1;33m,\u001b[0m \u001b[0msucnt\u001b[0m\u001b[1;33m)\u001b[0m\u001b[1;33m\u001b[0m\u001b[1;33m\u001b[0m\u001b[0m\n\u001b[1;32m----> 5\u001b[1;33m     \u001b[0mprint\u001b[0m\u001b[1;33m(\u001b[0m\u001b[1;34m\"URL: \"\u001b[0m\u001b[1;33m,\u001b[0m \u001b[0mjson\u001b[0m\u001b[1;33m.\u001b[0m\u001b[0mloads\u001b[0m\u001b[1;33m(\u001b[0m\u001b[0mx\u001b[0m\u001b[1;33m.\u001b[0m\u001b[0mget_attribute\u001b[0m\u001b[1;33m(\u001b[0m\u001b[1;34m'innerHTML'\u001b[0m\u001b[1;33m)\u001b[0m\u001b[1;33m)\u001b[0m\u001b[1;33m[\u001b[0m\u001b[1;34m\"ou\"\u001b[0m\u001b[1;33m]\u001b[0m\u001b[1;33m)\u001b[0m\u001b[1;33m\u001b[0m\u001b[1;33m\u001b[0m\u001b[0m\n\u001b[0m\u001b[0;32m      6\u001b[0m \u001b[1;33m\u001b[0m\u001b[0m\n\u001b[0;32m      7\u001b[0m     \u001b[1;31m# 이미지 url - 구글 이미지 rg_meta의 속성에서 ou는 url]\u001b[0m\u001b[1;33m\u001b[0m\u001b[1;33m\u001b[0m\u001b[1;33m\u001b[0m\u001b[0m\n",
      "\u001b[1;32m~\\.conda\\envs\\hiking\\lib\\json\\__init__.py\u001b[0m in \u001b[0;36mloads\u001b[1;34m(s, cls, object_hook, parse_float, parse_int, parse_constant, object_pairs_hook, **kw)\u001b[0m\n\u001b[0;32m    355\u001b[0m             \u001b[0mparse_int\u001b[0m \u001b[1;32mis\u001b[0m \u001b[1;32mNone\u001b[0m \u001b[1;32mand\u001b[0m \u001b[0mparse_float\u001b[0m \u001b[1;32mis\u001b[0m \u001b[1;32mNone\u001b[0m \u001b[1;32mand\u001b[0m\u001b[1;33m\u001b[0m\u001b[1;33m\u001b[0m\u001b[0m\n\u001b[0;32m    356\u001b[0m             parse_constant is None and object_pairs_hook is None and not kw):\n\u001b[1;32m--> 357\u001b[1;33m         \u001b[1;32mreturn\u001b[0m \u001b[0m_default_decoder\u001b[0m\u001b[1;33m.\u001b[0m\u001b[0mdecode\u001b[0m\u001b[1;33m(\u001b[0m\u001b[0ms\u001b[0m\u001b[1;33m)\u001b[0m\u001b[1;33m\u001b[0m\u001b[1;33m\u001b[0m\u001b[0m\n\u001b[0m\u001b[0;32m    358\u001b[0m     \u001b[1;32mif\u001b[0m \u001b[0mcls\u001b[0m \u001b[1;32mis\u001b[0m \u001b[1;32mNone\u001b[0m\u001b[1;33m:\u001b[0m\u001b[1;33m\u001b[0m\u001b[1;33m\u001b[0m\u001b[0m\n\u001b[0;32m    359\u001b[0m         \u001b[0mcls\u001b[0m \u001b[1;33m=\u001b[0m \u001b[0mJSONDecoder\u001b[0m\u001b[1;33m\u001b[0m\u001b[1;33m\u001b[0m\u001b[0m\n",
      "\u001b[1;32m~\\.conda\\envs\\hiking\\lib\\json\\decoder.py\u001b[0m in \u001b[0;36mdecode\u001b[1;34m(self, s, _w)\u001b[0m\n\u001b[0;32m    335\u001b[0m \u001b[1;33m\u001b[0m\u001b[0m\n\u001b[0;32m    336\u001b[0m         \"\"\"\n\u001b[1;32m--> 337\u001b[1;33m         \u001b[0mobj\u001b[0m\u001b[1;33m,\u001b[0m \u001b[0mend\u001b[0m \u001b[1;33m=\u001b[0m \u001b[0mself\u001b[0m\u001b[1;33m.\u001b[0m\u001b[0mraw_decode\u001b[0m\u001b[1;33m(\u001b[0m\u001b[0ms\u001b[0m\u001b[1;33m,\u001b[0m \u001b[0midx\u001b[0m\u001b[1;33m=\u001b[0m\u001b[0m_w\u001b[0m\u001b[1;33m(\u001b[0m\u001b[0ms\u001b[0m\u001b[1;33m,\u001b[0m \u001b[1;36m0\u001b[0m\u001b[1;33m)\u001b[0m\u001b[1;33m.\u001b[0m\u001b[0mend\u001b[0m\u001b[1;33m(\u001b[0m\u001b[1;33m)\u001b[0m\u001b[1;33m)\u001b[0m\u001b[1;33m\u001b[0m\u001b[1;33m\u001b[0m\u001b[0m\n\u001b[0m\u001b[0;32m    338\u001b[0m         \u001b[0mend\u001b[0m \u001b[1;33m=\u001b[0m \u001b[0m_w\u001b[0m\u001b[1;33m(\u001b[0m\u001b[0ms\u001b[0m\u001b[1;33m,\u001b[0m \u001b[0mend\u001b[0m\u001b[1;33m)\u001b[0m\u001b[1;33m.\u001b[0m\u001b[0mend\u001b[0m\u001b[1;33m(\u001b[0m\u001b[1;33m)\u001b[0m\u001b[1;33m\u001b[0m\u001b[1;33m\u001b[0m\u001b[0m\n\u001b[0;32m    339\u001b[0m         \u001b[1;32mif\u001b[0m \u001b[0mend\u001b[0m \u001b[1;33m!=\u001b[0m \u001b[0mlen\u001b[0m\u001b[1;33m(\u001b[0m\u001b[0ms\u001b[0m\u001b[1;33m)\u001b[0m\u001b[1;33m:\u001b[0m\u001b[1;33m\u001b[0m\u001b[1;33m\u001b[0m\u001b[0m\n",
      "\u001b[1;32m~\\.conda\\envs\\hiking\\lib\\json\\decoder.py\u001b[0m in \u001b[0;36mraw_decode\u001b[1;34m(self, s, idx)\u001b[0m\n\u001b[0;32m    353\u001b[0m             \u001b[0mobj\u001b[0m\u001b[1;33m,\u001b[0m \u001b[0mend\u001b[0m \u001b[1;33m=\u001b[0m \u001b[0mself\u001b[0m\u001b[1;33m.\u001b[0m\u001b[0mscan_once\u001b[0m\u001b[1;33m(\u001b[0m\u001b[0ms\u001b[0m\u001b[1;33m,\u001b[0m \u001b[0midx\u001b[0m\u001b[1;33m)\u001b[0m\u001b[1;33m\u001b[0m\u001b[1;33m\u001b[0m\u001b[0m\n\u001b[0;32m    354\u001b[0m         \u001b[1;32mexcept\u001b[0m \u001b[0mStopIteration\u001b[0m \u001b[1;32mas\u001b[0m \u001b[0merr\u001b[0m\u001b[1;33m:\u001b[0m\u001b[1;33m\u001b[0m\u001b[1;33m\u001b[0m\u001b[0m\n\u001b[1;32m--> 355\u001b[1;33m             \u001b[1;32mraise\u001b[0m \u001b[0mJSONDecodeError\u001b[0m\u001b[1;33m(\u001b[0m\u001b[1;34m\"Expecting value\"\u001b[0m\u001b[1;33m,\u001b[0m \u001b[0ms\u001b[0m\u001b[1;33m,\u001b[0m \u001b[0merr\u001b[0m\u001b[1;33m.\u001b[0m\u001b[0mvalue\u001b[0m\u001b[1;33m)\u001b[0m \u001b[1;32mfrom\u001b[0m \u001b[1;32mNone\u001b[0m\u001b[1;33m\u001b[0m\u001b[1;33m\u001b[0m\u001b[0m\n\u001b[0m\u001b[0;32m    356\u001b[0m         \u001b[1;32mreturn\u001b[0m \u001b[0mobj\u001b[0m\u001b[1;33m,\u001b[0m \u001b[0mend\u001b[0m\u001b[1;33m\u001b[0m\u001b[1;33m\u001b[0m\u001b[0m\n",
      "\u001b[1;31mJSONDecodeError\u001b[0m: Expecting value: line 1 column 1 (char 0)"
     ]
    }
   ],
   "source": [
    "for x in elements:\n",
    "    cnt = cnt + 1\n",
    "    print(\"Total : \", cnt)\n",
    "    print(\"Success: \", sucnt)\n",
    "    print(\"URL: \", json.loads(x.get_attribute('innerHTML'))[\"ou\"])\n",
    "    \n",
    "    # 이미지 url - 구글 이미지 rg_meta의 속성에서 ou는 url]\n",
    "    img = json.loads(x.get_attribute('innerHTML'))[\"ou\"]\n",
    "    # 이미지 확장자 - ity 속성은 확장자\n",
    "    imgtype = json.loads(x.get_attribute('innerHTML'))[\"ity\"]\n",
    "    \n",
    "    # 이미지 읽어서 저장\n",
    "    try:\n",
    "        req = urllib.request(img, headers = {'User-Agent':header})\n",
    "        raw_img = urllib.request.urlopen(req).read()\n",
    "        File = open(os.path.join(searchkey, searchkey + \"_\" + str(cnt) + \".\" + img_type), \"wb\")\n",
    "        File.write(raw_img)\n",
    "        File.close()\n",
    "        sucnt = sucnt + 1\n",
    "    except:\n",
    "        print(\"can't get images\")"
   ]
  },
  {
   "cell_type": "code",
   "execution_count": 2,
   "metadata": {},
   "outputs": [
    {
     "name": "stdout",
     "output_type": "stream",
     "text": [
      "Start\n",
      "0\n"
     ]
    }
   ],
   "source": [
    "# div 태그에서 class name이 rg_meta인 것 찾기\n",
    "print(\"Start\")\n",
    "\n",
    "elements = browser.find_elements_by_class_name('rg_i')\n",
    "\n",
    "print(len(elements))\n",
    "\n",
    "for x in elements:\n",
    "    cnt = cnt + 1\n",
    "    print(\"Total : \", cnt)\n",
    "    print(\"Success: \", sucnt)\n",
    "    print(\"URL: \", json.loads(x.get_attribute('innerHTML'))[\"ou\"])\n",
    "    \n",
    "    # 이미지 url - 구글 이미지 rg_meta의 속성에서 ou는 url]\n",
    "    img = json.loads(x.get_attribute('innerHTML'))[\"ou\"]\n",
    "    # 이미지 확장자 - ity 속성은 확장자\n",
    "    imgtype = json.loads(x.get_attribute('innerHTML'))[\"ity\"]\n",
    "    \n",
    "    # 이미지 읽어서 저장\n",
    "    try:\n",
    "        req = urllib.request(img, headers = {'User-Agent':header})\n",
    "        raw_img = urllib.request.urlopen(req).read()\n",
    "        File = open(os.path.join(searchkey, searchkey + \"_\" + str(cnt) + \".\" + img_type), \"wb\")\n",
    "        File.write(raw_img)\n",
    "        File.close()\n",
    "        sucnt = sucnt + 1\n",
    "    except:\n",
    "        print(\"can't get images\")"
   ]
  },
  {
   "cell_type": "code",
   "execution_count": 50,
   "metadata": {},
   "outputs": [
    {
     "name": "stdout",
     "output_type": "stream",
     "text": [
      "0 images successfully downloaded\n"
     ]
    }
   ],
   "source": []
  },
  {
   "cell_type": "code",
   "execution_count": null,
   "metadata": {},
   "outputs": [],
   "source": []
  }
 ],
 "metadata": {
  "kernelspec": {
   "display_name": "Python 3",
   "language": "python",
   "name": "python3"
  },
  "language_info": {
   "codemirror_mode": {
    "name": "ipython",
    "version": 3
   },
   "file_extension": ".py",
   "mimetype": "text/x-python",
   "name": "python",
   "nbconvert_exporter": "python",
   "pygments_lexer": "ipython3",
   "version": "3.8.3"
  }
 },
 "nbformat": 4,
 "nbformat_minor": 4
}
